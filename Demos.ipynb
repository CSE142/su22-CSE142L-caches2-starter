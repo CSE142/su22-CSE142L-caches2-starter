{
 "cells": [
  {
   "cell_type": "code",
   "execution_count": null,
   "metadata": {
    "init_cell": true
   },
   "outputs": [],
   "source": [
    "%load_ext autoreload\n",
    "%autoreload 2\n",
    "from notebook import *\n",
    "# if get something about NUMEXPR_MAX_THREADS being set incorrectly, don't worry.  It's not a problem."
   ]
  },
  {
   "cell_type": "markdown",
   "metadata": {},
   "source": [
    "#KEY include Namebox.ipynb"
   ]
  },
  {
   "cell_type": "markdown",
   "metadata": {},
   "source": [
    "<div style=\" font-size: 300% !important;\n",
    "    margin-top: 1.5em;\n",
    "    margin-bottom: 1.5em;\n",
    "    font-weight: bold;\n",
    "    line-height: 1.0;\n",
    "    text-align:center;\">Lab 4: The Memory Hierarchy (Part II) -- Demos</div>\n"
   ]
  },
  {
   "cell_type": "markdown",
   "metadata": {
    "heading_collapsed": true
   },
   "source": [
    "# Temporal Locality"
   ]
  },
  {
   "cell_type": "markdown",
   "metadata": {
    "hidden": true
   },
   "source": [
    "* How much spatial locality is there in this code?\n",
    "* How much temporal locality is there? \n",
    "    * How big is the working set?\n",
    "    * How much reuse is there?"
   ]
  },
  {
   "cell_type": "code",
   "execution_count": null,
   "metadata": {
    "collapsed": true,
    "hidden": true
   },
   "outputs": [],
   "source": [
    "name=\"spatial1\"\n",
    "t = fiddle(f\"{name}.cpp\", function=\"stride\", name=name,  run=[\"moneta\"],opt=\"-O1\",\n",
    "code=r\"\"\"\n",
    "#include\"pin_tags.h\"\n",
    "#include\"CNN/tensor_t.hpp\"\n",
    "#include\"function_map.hpp\"\n",
    "#include<cstdint>\n",
    "\n",
    "extern \"C\"\n",
    "uint64_t* stride(uint64_t * data, uint64_t size, uint64_t arg1) {\n",
    "    tensor_t<uint32_t> t(1024, 1,1,1, (uint32_t *)data);\n",
    "    TAG_START(\"init\", t.data, &t.as_vector(t.element_count()), true);\n",
    "\n",
    "    for(uint i = 0; i < 1024; i++) {\n",
    "        for(uint x = 0; x < 1024; x++) {\n",
    "            t.get(x,0,0,0) = x;\n",
    "        }\n",
    "    }\n",
    "    \n",
    "    TAG_STOP(\"init\");\n",
    "    return data;\n",
    "}\n",
    "\n",
    "FUNCTION(one_array_1arg, stride);\n",
    "\"\"\")"
   ]
  },
  {
   "cell_type": "code",
   "execution_count": null,
   "metadata": {
    "hidden": true
   },
   "outputs": [],
   "source": [
    "show_trace(f\"./{name}_0\", show_tag=[\"init\"])"
   ]
  },
  {
   "cell_type": "markdown",
   "metadata": {
    "hidden": true
   },
   "source": [
    "* How much spatial locality is there in this code?\n",
    "* How much temporal locality is there? \n",
    "    * How big is the working set?\n",
    "    * How much reuse is there?"
   ]
  },
  {
   "cell_type": "code",
   "execution_count": null,
   "metadata": {
    "collapsed": true,
    "hidden": true
   },
   "outputs": [],
   "source": [
    "name=\"spatial2\"\n",
    "t = fiddle(f\"{name}.cpp\", function=\"stride\", name=name,  run=[\"moneta\"],opt=\"-O1\",\n",
    "code=r\"\"\"\n",
    "#include\"pin_tags.h\"\n",
    "#include\"CNN/tensor_t.hpp\"\n",
    "#include\"function_map.hpp\"\n",
    "#include<cstdint>\n",
    "\n",
    "extern \"C\"\n",
    "uint64_t* stride(uint64_t * data, uint64_t size, uint64_t arg1) {\n",
    "    tensor_t<uint32_t> t(1024, 1,1,1, (uint32_t *)data);\n",
    "    TAG_START(\"init\", t.data, &t.as_vector(t.element_count()), true);\n",
    "\n",
    "    for(uint x = 0; x < 1024; x++) {\n",
    "        t.get(x,0,0,0) = x;\n",
    "    }\n",
    "    \n",
    "    TAG_STOP(\"init\");\n",
    "    return data;\n",
    "}\n",
    "\n",
    "FUNCTION(one_array_1arg, stride);\n",
    "\"\"\")"
   ]
  },
  {
   "cell_type": "code",
   "execution_count": null,
   "metadata": {
    "hidden": true
   },
   "outputs": [],
   "source": [
    "show_trace(f\"./{name}_0\", show_tag=[\"init\"])"
   ]
  },
  {
   "cell_type": "markdown",
   "metadata": {
    "hidden": true
   },
   "source": [
    "* How much spatial locality is there in this code?\n",
    "* How much temporal locality is there? \n",
    "    * How big is the working set?\n",
    "    * How much reuse is there?"
   ]
  },
  {
   "cell_type": "code",
   "execution_count": null,
   "metadata": {
    "hidden": true
   },
   "outputs": [],
   "source": [
    "name=\"spatial3\"\n",
    "t = fiddle(f\"{name}.cpp\", function=\"stride\", name=name,  run=[\"moneta\"],opt=\"-O1\",\n",
    "code=r\"\"\"\n",
    "#include\"pin_tags.h\"\n",
    "#include\"CNN/tensor_t.hpp\"\n",
    "#include\"function_map.hpp\"\n",
    "#include<cstdint>\n",
    "\n",
    "extern \"C\"\n",
    "uint64_t* stride(uint64_t * data, uint64_t size, uint64_t arg1) {\n",
    "    tensor_t<uint32_t> t(1024, 1,1,1, (uint32_t *)data);\n",
    "    TAG_START(\"init\", t.data, &t.as_vector(t.element_count()), true);\n",
    "\n",
    "    for(uint x = 0; x < 1024; x+=8) {\n",
    "        t.get(x,0,0,0) = x;\n",
    "    }\n",
    "    \n",
    "    TAG_STOP(\"init\");\n",
    "    return data;\n",
    "}\n",
    "\n",
    "FUNCTION(one_array_1arg, stride);\n",
    "\"\"\")"
   ]
  },
  {
   "cell_type": "code",
   "execution_count": null,
   "metadata": {
    "hidden": true
   },
   "outputs": [],
   "source": [
    "show_trace(f\"./{name}_0\", show_tag=[\"init\"])"
   ]
  },
  {
   "cell_type": "markdown",
   "metadata": {
    "hidden": true
   },
   "source": [
    "* How much spatial locality is there in this code?\n",
    "* How much temporal locality is there? \n",
    "    * How big is the working set?\n",
    "    * How much reuse is there?"
   ]
  },
  {
   "cell_type": "markdown",
   "metadata": {
    "heading_collapsed": true
   },
   "source": [
    "# Miss Types, Locality, and the Data Structure Zoo"
   ]
  },
  {
   "cell_type": "markdown",
   "metadata": {
    "hidden": true
   },
   "source": [
    "## Set"
   ]
  },
  {
   "cell_type": "code",
   "execution_count": null,
   "metadata": {
    "hidden": true
   },
   "outputs": [],
   "source": [
    "name=\"spatial4\"\n",
    "t = fiddle(f\"{name}.cpp\", function=\"working\", analyze=False, run=[\"moneta\"], name=name,opt=\"-O1\",\n",
    "code=r\"\"\"\n",
    "#include\"pin_tags.h\"\n",
    "#include\"function_map.hpp\"\n",
    "#include\"archlab.hpp\"\n",
    "#include<set>\n",
    "#include<cstdint>\n",
    "\n",
    "extern \"C\"\n",
    "uint64_t* working(uint64_t * data, uint64_t size, uint64_t arg1) {\n",
    "    auto s = new std::set<uint64_t>();\n",
    "    uint64_t seed = 1;\n",
    "\n",
    "    TAG_START(\"build\", (void*)-1, 0, true);\n",
    "    for(uint x = 0; x < size; x++) {\n",
    "        auto t = fast_rand(&seed);\n",
    "        s->insert(t);\n",
    "        auto a = s->find(t);\n",
    "        TAG_GROW(\"build\",  &(*a), &(*a)+ 1);\n",
    "    }\n",
    "    TAG_STOP(\"build\");\n",
    "    \n",
    "    seed = 1;\n",
    "    \n",
    "    TAG_START(\"search\", (void*)-1, 0, true);\n",
    "    for(uint x = 0; x < size; x++) {\n",
    "        auto a = s->find(fast_rand(&seed));\n",
    "        TAG_GROW(\"search\", &(*a), &(*a)+ 1);\n",
    "    }\n",
    "    TAG_STOP(\"search\");\n",
    "\n",
    "    TAG_START_ALL(\"delete\", false);\n",
    "    delete s;\n",
    "    TAG_STOP(\"delete\");\n",
    "    return data;\n",
    "}\n",
    "\n",
    "FUNCTION(one_array_1arg, working);\n",
    "\"\"\",\n",
    "           cmdline=f\"--size {4* 1024}   --iters 1\")"
   ]
  },
  {
   "cell_type": "code",
   "execution_count": null,
   "metadata": {
    "hidden": true
   },
   "outputs": [],
   "source": [
    "show_trace(f\"./{name}_0.hdf5\", show_tag=['build','search'], layer_preset=[\"misses-compulsory-all\", \"misses-all\", \"hits-all\"])"
   ]
  },
  {
   "cell_type": "markdown",
   "metadata": {
    "hidden": true
   },
   "source": [
    "* How much spatial locality is there in this code?\n",
    "* How much temporal locality is there? \n",
    "    * How big is the working set?\n",
    "    * How much reuse is there?\n",
    "   "
   ]
  },
  {
   "cell_type": "markdown",
   "metadata": {
    "hidden": true
   },
   "source": [
    "## Unordered Set"
   ]
  },
  {
   "cell_type": "code",
   "execution_count": null,
   "metadata": {
    "hidden": true
   },
   "outputs": [],
   "source": [
    "name=\"spatial5\"\n",
    "t = fiddle(f\"{name}.cpp\", function=\"working\", analyze=False, run=[\"moneta\"], name=name,opt=\"-O1\",\n",
    "code=r\"\"\"\n",
    "#include\"pin_tags.h\"\n",
    "#include\"function_map.hpp\"\n",
    "#include\"archlab.hpp\"\n",
    "#include<unordered_set>\n",
    "#include<cstdint>\n",
    "\n",
    "extern \"C\"\n",
    "uint64_t* working(uint64_t * data, uint64_t size, uint64_t arg1) {\n",
    "    auto s = new std::unordered_set<uint64_t>();\n",
    "    uint64_t seed = 1;\n",
    "\n",
    "    TAG_START(\"build\", (void*)-1, 0, true);\n",
    "    for(uint x = 0; x < size; x++) {\n",
    "        auto t = fast_rand(&seed);\n",
    "        s->insert(t);\n",
    "        auto a = s->find(t);\n",
    "        TAG_GROW(\"build\",  &(*a), &(*a)+ 1);\n",
    "    }\n",
    "    TAG_STOP(\"build\");\n",
    "    \n",
    "    seed = 1;\n",
    "    \n",
    "    TAG_START(\"search\", (void*)-1, 0, true);\n",
    "    for(uint x = 0; x < size; x++) {\n",
    "        auto a = s->find(fast_rand(&seed));\n",
    "        TAG_GROW(\"search\", &(*a), &(*a)+ 1);\n",
    "    }\n",
    "    TAG_STOP(\"search\");\n",
    "\n",
    "    TAG_START_ALL(\"delete\", false);\n",
    "    delete s;\n",
    "    TAG_STOP(\"delete\");\n",
    "    return data;\n",
    "}\n",
    "\n",
    "FUNCTION(one_array_1arg, working);\n",
    "\"\"\",\n",
    "           cmdline=f\"--size {4* 1024}   --iters 1\")"
   ]
  },
  {
   "cell_type": "code",
   "execution_count": null,
   "metadata": {
    "hidden": true
   },
   "outputs": [],
   "source": [
    "show_trace(f\"./{name}_0.hdf5\", show_tag=['build','search'], layer_preset=[\"misses-compulsory-all\", \"misses-all\", \"hits-all\"])"
   ]
  },
  {
   "cell_type": "markdown",
   "metadata": {
    "hidden": true
   },
   "source": [
    "## List"
   ]
  },
  {
   "cell_type": "code",
   "execution_count": null,
   "metadata": {
    "hidden": true
   },
   "outputs": [],
   "source": [
    "name=\"spatial6\"\n",
    "t = fiddle(f\"{name}.cpp\", function=\"working\", analyze=False, run=[\"moneta\"], name=name,opt=\"-O1\",\n",
    "code=r\"\"\"\n",
    "#include\"pin_tags.h\"\n",
    "#include\"function_map.hpp\"\n",
    "#include\"archlab.hpp\"\n",
    "#include<list>\n",
    "#include<cstdint>\n",
    "\n",
    "extern \"C\"\n",
    "uint64_t* working(uint64_t * data, uint64_t size, uint64_t arg1) {\n",
    "    auto s = new std::list<uint64_t>();\n",
    "    uint64_t seed = 1;\n",
    "\n",
    "    TAG_START(\"build\", (void*)-1, 0, true);\n",
    "    for(uint x = 0; x < size; x++) {\n",
    "        s->push_back(fast_rand(&seed));\n",
    "        auto a = &s->back();\n",
    "        TAG_GROW(\"build\",  &(*a), &(*a)+ 1);\n",
    "    }\n",
    "        \n",
    "    uint64_t sum = 0;\n",
    "    std::cerr << s->size() << \"\\n\";\n",
    "    for(int i = 0; i < 10; i++){\n",
    "        for(auto &a: *s) sum += a;\n",
    "    }\n",
    "    TAG_STOP(\"build\");\n",
    "\n",
    "    TAG_START_ALL(\"delete\", false);\n",
    "    delete s;\n",
    "    TAG_STOP(\"delete\");\n",
    "    data[0] = sum;\n",
    "    return data;\n",
    "}\n",
    "\n",
    "FUNCTION(one_array_1arg, working);\n",
    "\"\"\",\n",
    "           cmdline=f\"--size {4* 1024}   --iters 1\")"
   ]
  },
  {
   "cell_type": "code",
   "execution_count": null,
   "metadata": {
    "hidden": true
   },
   "outputs": [],
   "source": [
    "show_trace(f\"./{name}_0.hdf5\", show_tag=['build'], layer_preset=[\"misses-compulsory-all\", \"misses-all\", \"hits-all\"])"
   ]
  },
  {
   "cell_type": "markdown",
   "metadata": {
    "hidden": true
   },
   "source": [
    "## Vector"
   ]
  },
  {
   "cell_type": "code",
   "execution_count": null,
   "metadata": {
    "hidden": true
   },
   "outputs": [],
   "source": [
    "name=\"spatial7\"\n",
    "t = fiddle(f\"{name}.cpp\", function=\"working\", analyze=False, run=[\"moneta\"], name=name,opt=\"-O1\",\n",
    "code=r\"\"\"\n",
    "#include\"pin_tags.h\"\n",
    "#include\"function_map.hpp\"\n",
    "#include\"archlab.hpp\"\n",
    "#include<vector>\n",
    "#include<cstdint>\n",
    "\n",
    "extern \"C\"\n",
    "uint64_t* working(uint64_t * data, uint64_t size, uint64_t arg1) {\n",
    "    auto s = new std::vector<uint64_t>();\n",
    "    uint64_t seed = 1;\n",
    "\n",
    "    TAG_START(\"build\", (void*)-1, 0, true);\n",
    "    for(uint x = 0; x < size; x++) {\n",
    "        s->push_back(fast_rand(&seed));\n",
    "        auto a = &s->back();\n",
    "        TAG_GROW(\"build\",  &(*a), &(*a)+ 1);\n",
    "    }\n",
    "        \n",
    "    uint64_t sum = 0;\n",
    "    std::cerr << s->size() << \"\\n\";\n",
    "    for(int i = 0; i < 10; i++){\n",
    "        for(auto &a: *s) sum += a;\n",
    "    }\n",
    "    TAG_STOP(\"build\");\n",
    "\n",
    "    TAG_START_ALL(\"delete\", false);\n",
    "    delete s;\n",
    "    TAG_STOP(\"delete\");\n",
    "    data[0] = sum;\n",
    "    return data;\n",
    "}\n",
    "\n",
    "FUNCTION(one_array_1arg, working);\n",
    "\"\"\",\n",
    "           cmdline=f\"--size {4* 1024}   --iters 1\")"
   ]
  },
  {
   "cell_type": "code",
   "execution_count": null,
   "metadata": {
    "hidden": true
   },
   "outputs": [],
   "source": [
    "show_trace(f\"./{name}_0.hdf5\", show_tag=['build'], layer_preset=[\"misses-compulsory-all\", \"misses-all\", \"hits-all\"])"
   ]
  },
  {
   "cell_type": "markdown",
   "metadata": {},
   "source": [
    "# Image Stabilization"
   ]
  },
  {
   "cell_type": "markdown",
   "metadata": {},
   "source": [
    "# Instruction Latency"
   ]
  },
  {
   "cell_type": "markdown",
   "metadata": {},
   "source": [
    "## Let's measure the latency of an add instruction"
   ]
  },
  {
   "cell_type": "code",
   "execution_count": null,
   "metadata": {},
   "outputs": [],
   "source": [
    "t = fiddle(\"inst_lat.cpp\", code=\"\"\"\n",
    "#include\"pin_tags.h\"\n",
    "#include\"function_map.hpp\"\n",
    "#include\"archlab.hpp\"\n",
    "#include<vector>\n",
    "#include<cstdint>\n",
    "\n",
    "extern \"C\"\n",
    "uint64_t* wide_1(uint64_t * data, uint64_t size, register uint64_t arg1) {\n",
    "\tregister uint64_t j =0;\n",
    "\tfor(register uint64_t i = 0; i < size; i++) {\n",
    "\t\tj = j+arg1;\n",
    "\t\tj = j+arg1;       \n",
    "\t\tj = j+arg1;       \n",
    "\t\tj = j+arg1;       \n",
    "\t\tj = j+arg1;\n",
    "\t}\n",
    "\tdata[0] = j;\n",
    "\treturn data;\n",
    "}\n",
    "FUNCTION(one_array_1arg, wide_1);\n",
    "\"\"\",\n",
    "       function=[\"wide_1\"], name=\"ilp\", opt=\"-O0\", run=[\"perf_count\"], \n",
    "           cmdline=f\"--size 10000000\", \n",
    "           perf_cmdline=\"--stat-set PE.cfg --MHz 3500\")\n"
   ]
  },
  {
   "cell_type": "code",
   "execution_count": null,
   "metadata": {},
   "outputs": [],
   "source": [
    "display(t.cfg)\n",
    "\n",
    "df = render_csv(\"ilp.csv\")\n",
    "display(df)\n",
    "df[\"Cycles/iteration\"] = df[\"cycles\"]/df[\"size\"]\n",
    "df[\"Cycles/inst\"] = df[\"cycles\"]/df[\"size\"]/5.0\n",
    "display(df[[\"Cycles/iteration\", \"Cycles/inst\"]])"
   ]
  },
  {
   "cell_type": "markdown",
   "metadata": {},
   "source": [
    "## How about a floating point add"
   ]
  },
  {
   "cell_type": "code",
   "execution_count": null,
   "metadata": {},
   "outputs": [],
   "source": [
    "t = fiddle(\"inst_lat.cpp\", code=\"\"\"\n",
    "#include\"function_map.hpp\"\n",
    "#include<cstdint>\n",
    "\n",
    "extern \"C\"\n",
    "uint64_t* wide_1(uint64_t * data, uint64_t size, uint64_t arg1) {\n",
    "\tregister double j =0;\n",
    "\tfor(unsigned i = 0; i < size; i++) {\n",
    "\t\tj = j+1;\n",
    "\t\tj = j+1;       \n",
    "\t\tj = j+1;       \n",
    "\t\tj = j+1;       \n",
    "\t\tj = j+1;\n",
    "\t}\n",
    "\tdata[0] = j;\n",
    "\treturn data;\n",
    "}\n",
    "FUNCTION(one_array_1arg, wide_1);\n",
    "\"\"\",\n",
    "       function=[\"wide_1\"], name=\"ilp\", opt=\"-O1\", run=[\"perf_count\"], \n",
    "           cmdline=f\"--size 10000000\", \n",
    "           perf_cmdline=\"--stat-set PE.cfg --MHz 3500\")\n",
    "render_csv(\"ilp.csv\")"
   ]
  },
  {
   "cell_type": "code",
   "execution_count": null,
   "metadata": {},
   "outputs": [],
   "source": [
    "display(t.cfg)\n",
    "df = render_csv(\"ilp.csv\")\n",
    "df[\"Cycles/iteration\"] = df[\"cycles\"]/df[\"size\"]\n",
    "df[\"Cycles/inst\"] = df[\"cycles\"]/df[\"size\"]/5.0\n",
    "display(df[[\"Cycles/iteration\", \"Cycles/inst\"]])"
   ]
  },
  {
   "cell_type": "markdown",
   "metadata": {},
   "source": [
    "## Integer Divide"
   ]
  },
  {
   "cell_type": "code",
   "execution_count": null,
   "metadata": {},
   "outputs": [],
   "source": [
    "t = fiddle(\"inst_lat.cpp\", code=\"\"\"\n",
    "#include\"function_map.hpp\"\n",
    "#include<cstdint>\n",
    "\n",
    "extern \"C\"\n",
    "uint64_t* wide_1(uint64_t * data, uint64_t size, uint64_t arg1) {\n",
    "\tregister uint64_t j = (uint64_t)-1;\n",
    "    register uint64_t k = arg1 + 7;\n",
    "    \n",
    "\tfor(unsigned i = 0; i < size; i++) {\n",
    "\t\tj = j/k;\n",
    "\t\tj = j/k;       \n",
    "\t\tj = j/k;       \n",
    "\t\tj = j/k;       \n",
    "\t\tj = j/k;\n",
    "\t}\n",
    "\tdata[0] = j;\n",
    "\treturn data;\n",
    "}\n",
    "FUNCTION(one_array_1arg, wide_1);\n",
    "\"\"\",\n",
    "       function=[\"wide_1\"], name=\"ilp\", opt=\"-O1\", run=[\"perf_count\"], \n",
    "           cmdline=f\"--size 10000000\", \n",
    "           perf_cmdline=\"--stat-set PE.cfg --MHz 3500\")\n",
    "render_csv(\"ilp.csv\")"
   ]
  },
  {
   "cell_type": "code",
   "execution_count": null,
   "metadata": {},
   "outputs": [],
   "source": [
    "display(t.cfg)\n",
    "df = render_csv(\"ilp.csv\")\n",
    "df[\"Cycles/iteration\"] = df[\"cycles\"]/df[\"size\"]\n",
    "df[\"Cycles/inst\"] = df[\"cycles\"]/df[\"size\"]/5.0\n",
    "display(df[[\"Cycles/iteration\", \"Cycles/inst\"]])"
   ]
  },
  {
   "cell_type": "markdown",
   "metadata": {},
   "source": [
    "## Floating point Divide"
   ]
  },
  {
   "cell_type": "code",
   "execution_count": null,
   "metadata": {},
   "outputs": [],
   "source": [
    "div1 = fiddle(\"inst_lat.cpp\", code=\"\"\"\n",
    "#include\"function_map.hpp\"\n",
    "#include<cstdint>\n",
    "\n",
    "extern \"C\"\n",
    "uint64_t* wide_1(uint64_t * data, uint64_t size, uint64_t arg1) {\n",
    "\tregister double j =0;\n",
    "    register double k = arg1 + 7.3;\n",
    "    \n",
    "\tfor(unsigned i = 0; i < size; i++) {\n",
    "\t\tj = j/k;\n",
    "\t\tj = j/k;       \n",
    "\t\tj = j/k;       \n",
    "\t\tj = j/k;       \n",
    "\t\tj = j/k;\n",
    "\n",
    "\t}\n",
    "\tdata[0] = j;\n",
    "\treturn data;\n",
    "}\n",
    "FUNCTION(one_array_1arg, wide_1);\n",
    "\"\"\",\n",
    "       function=[\"wide_1\"], name=\"div1\", opt=\"-O1\", run=[\"perf_count\"], \n",
    "           cmdline=f\"--size 10000000\", \n",
    "           perf_cmdline=\"--stat-set PE.cfg --MHz 3500\")\n"
   ]
  },
  {
   "cell_type": "code",
   "execution_count": null,
   "metadata": {},
   "outputs": [],
   "source": [
    "display(div1.cfg)\n",
    "df = render_csv(\"div1.csv\")\n",
    "df[\"Cycles/iteration\"] = df[\"cycles\"]/df[\"size\"]\n",
    "df[\"Cycles/inst\"] = df[\"cycles\"]/df[\"size\"]/5.0\n",
    "display(df[[\"Cycles/iteration\", \"Cycles/inst\", \"CPI\"]])"
   ]
  },
  {
   "cell_type": "markdown",
   "metadata": {},
   "source": [
    "## Parallel Divides"
   ]
  },
  {
   "cell_type": "code",
   "execution_count": null,
   "metadata": {},
   "outputs": [],
   "source": [
    "div2 = fiddle(\"inst_lat.cpp\", code=\"\"\"\n",
    "#include\"function_map.hpp\"\n",
    "#include<cstdint>\n",
    "\n",
    "extern \"C\"\n",
    "uint64_t* wide_1(uint64_t * data, uint64_t size, uint64_t arg1) {\n",
    "\tregister double j =0;\n",
    "\tregister double jj = 8324.93242;\n",
    "    register double k = arg1 + 7.3;\n",
    "    \n",
    "\tfor(unsigned i = 0; i < size; i++) {\n",
    "\t\tj = j/k;\n",
    "\t\tj = j/k;       \n",
    "\t\tj = j/k;       \n",
    "\t\tj = j/k;       \n",
    "\t\tj = j/k;\n",
    "\n",
    "        jj = jj/k;\n",
    "\t\tjj = jj/k;       \n",
    "\t\tjj = jj/k;       \n",
    "\t\tjj = jj/k;       \n",
    "\t\tjj = jj/k;\n",
    "\t}\n",
    "\tdata[0] = j + jj;\n",
    "\treturn data;\n",
    "}\n",
    "FUNCTION(one_array_1arg, wide_1);\n",
    "\"\"\",\n",
    "       function=[\"wide_1\"], name=\"div2\", opt=\"-O1\", run=[\"perf_count\"], \n",
    "           cmdline=f\"--size 10000000\", \n",
    "           perf_cmdline=\"--stat-set PE.cfg --MHz 3500\")\n"
   ]
  },
  {
   "cell_type": "code",
   "execution_count": null,
   "metadata": {},
   "outputs": [],
   "source": [
    "display(div2.cfg)\n",
    "df = render_csv(\"div2.csv\")\n",
    "df[\"Cycles/iteration\"] = df[\"cycles\"]/df[\"size\"]\n",
    "df[\"Cycles/op\"] = df[\"cycles\"]/df[\"size\"]/5.0\n",
    "display(df[[\"Cycles/iteration\", \"Cycles/inst\", \"CPI\"]])"
   ]
  },
  {
   "cell_type": "code",
   "execution_count": null,
   "metadata": {},
   "outputs": [],
   "source": [
    "div3 = fiddle(\"inst_lat.cpp\", code=\"\"\"\n",
    "#include\"function_map.hpp\"\n",
    "#include<cstdint>\n",
    "\n",
    "extern \"C\"\n",
    "uint64_t* wide_1(uint64_t * data, uint64_t size, uint64_t arg1) {\n",
    "\tregister double j =0;\n",
    "\tregister double jj = 8324.93242;\n",
    "\tregister double jjj = 83324.93242;\n",
    "    register double k = arg1 + 7.3;\n",
    "    \n",
    "\tfor(unsigned i = 0; i < size; i++) {\n",
    "\t\tj = j/k;\n",
    "\t\tj = j/k;       \n",
    "\t\tj = j/k;       \n",
    "\t\tj = j/k;       \n",
    "\t\tj = j/k;\n",
    "\n",
    "        jj = jj/k;\n",
    "\t\tjj = jj/k;       \n",
    "\t\tjj = jj/k;       \n",
    "\t\tjj = jj/k;       \n",
    "\t\tjj = jj/k;\n",
    "\n",
    "        jjj = jjj/k;\n",
    "\t\tjjj = jjj/k;       \n",
    "\t\tjjj = jjj/k;       \n",
    "\t\tjjj = jjj/k;       \n",
    "\t\tjjj = jjj/k;\n",
    "\t}\n",
    "\tdata[0] = j + jj + jjj;\n",
    "\treturn data;\n",
    "}\n",
    "FUNCTION(one_array_1arg, wide_1);\n",
    "\"\"\",\n",
    "       function=[\"wide_1\"], name=\"div3\", opt=\"-O1\", run=[\"perf_count\"], \n",
    "           cmdline=f\"--size 10000000\", \n",
    "           perf_cmdline=\"--stat-set PE.cfg --MHz 3500\")\n"
   ]
  },
  {
   "cell_type": "code",
   "execution_count": null,
   "metadata": {},
   "outputs": [],
   "source": [
    "display(div3.cfg)\n",
    "df = render_csv(\"div3.csv\")\n",
    "df[\"Cycles/iteration\"] = df[\"cycles\"]/df[\"size\"]\n",
    "df[\"Cycles/op\"] = df[\"cycles\"]/df[\"size\"]/5.0\n",
    "display(df[[\"Cycles/iteration\", \"Cycles/inst\", \"CPI\"]])"
   ]
  },
  {
   "cell_type": "code",
   "execution_count": null,
   "metadata": {},
   "outputs": [],
   "source": [
    "div4 = fiddle(\"inst_lat.cpp\", code=\"\"\"\n",
    "#include\"function_map.hpp\"\n",
    "#include<cstdint>\n",
    "\n",
    "extern \"C\"\n",
    "uint64_t* wide_1(uint64_t * data, uint64_t size, uint64_t arg1) {\n",
    "\tregister double j =0;\n",
    "\tregister double jj = 8324.93242;\n",
    "\tregister double jjj = 83324.93242;\n",
    "\tregister double jjjj = 833424.93242;\n",
    "    register double k = arg1 + 7.3;\n",
    "    \n",
    "\tfor(unsigned i = 0; i < size; i++) {\n",
    "\t\tj = j/k;\n",
    "\t\tj = j/k;       \n",
    "\t\tj = j/k;       \n",
    "\t\tj = j/k;       \n",
    "\t\tj = j/k;\n",
    "\n",
    "        jj = jj/k;\n",
    "\t\tjj = jj/k;       \n",
    "\t\tjj = jj/k;       \n",
    "\t\tjj = jj/k;       \n",
    "\t\tjj = jj/k;\n",
    "\n",
    "        jjj = jjj/k;\n",
    "\t\tjjj = jjj/k;       \n",
    "\t\tjjj = jjj/k;       \n",
    "\t\tjjj = jjj/k;       \n",
    "\t\tjjj = jjj/k;\n",
    "\n",
    "        jjjj = jjjj/k;\n",
    "\t\tjjjj = jjjj/k;       \n",
    "\t\tjjjj = jjjj/k;       \n",
    "\t\tjjjj = jjjj/k;       \n",
    "\t\tjjjj = jjjj/k;\n",
    "\t}\n",
    "\tdata[0] = j + jj + jjj + jjjj;\n",
    "\treturn data;\n",
    "}\n",
    "FUNCTION(one_array_1arg, wide_1);\n",
    "\"\"\",\n",
    "       function=[\"wide_1\"], name=\"div4\", opt=\"-O1\", run=[\"perf_count\"], \n",
    "           cmdline=f\"--size 10000000\", \n",
    "           perf_cmdline=\"--stat-set PE.cfg --MHz 3500\")\n"
   ]
  },
  {
   "cell_type": "code",
   "execution_count": null,
   "metadata": {},
   "outputs": [],
   "source": [
    "display(div4.cfg)\n",
    "df = render_csv(\"div4.csv\")\n",
    "df[\"Cycles/iteration\"] = df[\"cycles\"]/df[\"size\"]\n",
    "df[\"Cycles/op\"] = df[\"cycles\"]/df[\"size\"]/5.0\n",
    "display(df[[\"Cycles/iteration\", \"Cycles/inst\", \"CPI\"]])"
   ]
  },
  {
   "cell_type": "code",
   "execution_count": null,
   "metadata": {},
   "outputs": [],
   "source": [
    "div5 = fiddle(\"inst_lat.cpp\", code=\"\"\"\n",
    "#include\"function_map.hpp\"\n",
    "#include<cstdint>\n",
    "\n",
    "extern \"C\"\n",
    "uint64_t* wide_1(uint64_t * data, uint64_t size, uint64_t arg1) {\n",
    "\tregister double j =0;\n",
    "\tregister double jj = 8324.93242;\n",
    "\tregister double jjj = 83324.93242;\n",
    "\tregister double jjjj = 833424.93242;\n",
    "\tregister double jjjjj = 833424.93242;\n",
    "    register double k = arg1 + 7.3;\n",
    "    \n",
    "\tfor(unsigned i = 0; i < size; i++) {\n",
    "\t\tj = j/k;\n",
    "\t\tj = j/k;       \n",
    "\t\tj = j/k;       \n",
    "\t\tj = j/k;       \n",
    "\t\tj = j/k;\n",
    "\n",
    "        jj = jj/k;\n",
    "\t\tjj = jj/k;       \n",
    "\t\tjj = jj/k;       \n",
    "\t\tjj = jj/k;       \n",
    "\t\tjj = jj/k;\n",
    "\n",
    "        jjj = jjj/k;\n",
    "\t\tjjj = jjj/k;       \n",
    "\t\tjjj = jjj/k;       \n",
    "\t\tjjj = jjj/k;       \n",
    "\t\tjjj = jjj/k;\n",
    "\n",
    "        jjjj = jjjj/k;\n",
    "\t\tjjjj = jjjj/k;       \n",
    "\t\tjjjj = jjjj/k;       \n",
    "\t\tjjjj = jjjj/k;       \n",
    "\t\tjjjj = jjjj/k;\n",
    "        \n",
    "        jjjjj = jjjjj/k;\n",
    "\t\tjjjjj = jjjjj/k;       \n",
    "\t\tjjjjj = jjjjj/k;       \n",
    "\t\tjjjjj = jjjjj/k;       \n",
    "\t\tjjjjj = jjjjj/k;\n",
    "\t}\n",
    "\tdata[0] = j + jj + jjj +jjjj +jjjjj;\n",
    "\treturn data;\n",
    "}\n",
    "FUNCTION(one_array_1arg, wide_1);\n",
    "\"\"\",\n",
    "       function=[\"wide_1\"], name=\"div5\", opt=\"-O1\", run=[\"perf_count\"], \n",
    "           cmdline=f\"--size 10000000\", \n",
    "           perf_cmdline=\"--stat-set PE.cfg --MHz 3500\")\n"
   ]
  },
  {
   "cell_type": "code",
   "execution_count": null,
   "metadata": {},
   "outputs": [],
   "source": [
    "display(div4.cfg)\n",
    "df = render_csv(\"div4.csv\")\n",
    "df[\"Cycles/iteration\"] = df[\"cycles\"]/df[\"size\"]\n",
    "df[\"Cycles/op\"] = df[\"cycles\"]/df[\"size\"]/5.0\n",
    "display(df[[\"Cycles/iteration\", \"Cycles/inst\", \"CPI\"]])"
   ]
  },
  {
   "cell_type": "markdown",
   "metadata": {},
   "source": [
    "# Floating point"
   ]
  },
  {
   "cell_type": "markdown",
   "metadata": {},
   "source": [
    "1. Numerical instability -- sort and add\n",
    "2. FMA speedup\n",
    "3. Gallery of weird results."
   ]
  },
  {
   "cell_type": "markdown",
   "metadata": {
    "heading_collapsed": true
   },
   "source": [
    "# Vectors"
   ]
  },
  {
   "cell_type": "markdown",
   "metadata": {
    "hidden": true
   },
   "source": [
    "## Floats"
   ]
  },
  {
   "cell_type": "code",
   "execution_count": null,
   "metadata": {
    "hidden": true
   },
   "outputs": [],
   "source": [
    "cfgs=[]\n",
    "asm=[]\n",
    "files=[]"
   ]
  },
  {
   "cell_type": "code",
   "execution_count": null,
   "metadata": {
    "hidden": true
   },
   "outputs": [],
   "source": [
    "os.environ[\"OPENMP\"]=\"yes\"\n",
    "for opts in [\"-O0\", \"-O1 -fno-openmp\", \"-O3 -fno-unroll-loops\", \"-O3 -march=skylake -fno-unroll-loops\"]:\n",
    "    filename = f\"vsum-{opts.replace(' ','')}\"\n",
    "    fiddle(\"inst_lat.cpp\", code=\"\"\"\n",
    "    #include\"function_map.hpp\"\n",
    "    #include<cstdint>\n",
    "    #include<cmath>\n",
    "\n",
    "    extern \"C\"\n",
    "    void __attribute__((noinline)) vsum(register float *a, register float *b, register float * c, register uint64_t n) {\n",
    "    #ifdef _OPENMP\n",
    "    #pragma omp simd\n",
    "    #endif\n",
    "        for(unsigned int i = 0; i < n; i++) {\n",
    "            c[i] = a[i] + b[i];\n",
    "        }\n",
    "    }\n",
    "\n",
    "    extern \"C\"\n",
    "    uint64_t* wide_1(uint64_t * data, uint64_t size, uint64_t arg1) {\n",
    "        auto a = new float[size];\n",
    "        auto b = new float[size];\n",
    "        auto c = new float[size];\n",
    "        vsum(a,b,c, size);\n",
    "        data[0] = a[4];\n",
    "        return data;\n",
    "    }\n",
    "    FUNCTION(one_array_1arg, wide_1);\n",
    "    \"\"\",\n",
    "           function=[\"wide_1\"], name=filename, analyze=False, opt=opts, run=[\"perf_count\"], \n",
    "               cmdline=f\"--size 10000000\", \n",
    "               perf_cmdline=\"--stat-set PE.cfg --MHz 3500\")\n",
    "    cfgs.append(do_cfg(\"build/inst_lat.so\", symbol=\"vsum\"))\n",
    "    asm.append(do_render_code(\"build/inst_lat.s\", lang=\"gas\", show=\"vsum\"))\n",
    "    files.append(f\"{filename}.csv\")"
   ]
  },
  {
   "cell_type": "code",
   "execution_count": null,
   "metadata": {
    "hidden": true
   },
   "outputs": [],
   "source": [
    "display(asm[0]) # Nothing"
   ]
  },
  {
   "cell_type": "code",
   "execution_count": null,
   "metadata": {
    "hidden": true
   },
   "outputs": [],
   "source": [
    "display(cfgs[1]) # Normal opt"
   ]
  },
  {
   "cell_type": "code",
   "execution_count": null,
   "metadata": {
    "hidden": true
   },
   "outputs": [],
   "source": [
    "display(cfgs[2]) # OpenMP SIMD"
   ]
  },
  {
   "cell_type": "code",
   "execution_count": null,
   "metadata": {
    "hidden": true
   },
   "outputs": [],
   "source": [
    "display(cfgs[3]) #OPenMP SIMD AVX"
   ]
  },
  {
   "cell_type": "code",
   "execution_count": null,
   "metadata": {
    "hidden": true
   },
   "outputs": [],
   "source": [
    "\n",
    "df=render_csv(files)\n",
    "df[\"file\"] = files\n",
    "df[\"GHz\"] = 1/df[\"CT\"]/1e9\n",
    "df[\"CT_ns\"] = df[\"CT\"]*1e9\n",
    "df[\"What we should get\"]= df[\"IC\"]*df[\"CPI\"]\n",
    "df[[\"file\",\"IC\", \"CPI\", \"CT_ns\", \"ET\",  \"GHz\", \"What we should get\"]]\n"
   ]
  },
  {
   "cell_type": "markdown",
   "metadata": {
    "hidden": true
   },
   "source": [
    "## Integers\n"
   ]
  },
  {
   "cell_type": "code",
   "execution_count": null,
   "metadata": {
    "hidden": true
   },
   "outputs": [],
   "source": [
    "icfgs=[]\n",
    "iasm=[]\n",
    "ifiles=[]\n",
    "\n",
    "os.environ[\"OPENMP\"]=\"yes\"\n",
    "for opts in [\"-O0\", \"-O1 -fno-openmp\", \"-O3 -fno-unroll-loops\", \"-O3 -march=skylake -fno-unroll-loops\"]:\n",
    "    filename = f\"vsum-int-{opts.replace(' ','')}\"\n",
    "    fiddle(\"inst_lat.cpp\", code=\"\"\"\n",
    "    #include\"function_map.hpp\"\n",
    "    #include<cstdint>\n",
    "    #include<cmath>\n",
    "\n",
    "    extern \"C\"\n",
    "    void __attribute__((noinline)) vsum(register int *a, register int *b, register  * c, register size_t n) {\n",
    "    #ifdef _OPENMP\n",
    "    #pragma omp simd\n",
    "    #endif\n",
    "        for(unsigned int i = 0; i < n; i++) {\n",
    "            c[i] = a[i] + b[i];\n",
    "        }\n",
    "    }\n",
    "\n",
    "    extern \"C\"\n",
    "    uint64_t* wide_1(uint64_t * data, uint64_t size, uint64_t arg1) {\n",
    "        auto a = new int[size];\n",
    "        auto b = new int[size];\n",
    "        auto c = new int[size];\n",
    "        vsum(a,b,c, size);\n",
    "        data[0] = a[4];\n",
    "        return data;\n",
    "    }\n",
    "    FUNCTION(one_array_1arg, wide_1);\n",
    "    \"\"\",\n",
    "           function=[\"wide_1\"], name=filename, analyze=False, opt=opts, run=[\"perf_count\"], \n",
    "               cmdline=f\"--size 10000000\", \n",
    "               perf_cmdline=\"--stat-set PE.cfg --MHz 3500\")\n",
    "    icfgs.append(do_cfg(\"build/inst_lat.so\", symbol=\"vsum\"))\n",
    "    iasm.append(do_render_code(\"build/inst_lat.s\", lang=\"gas\", show=\"vsum\"))\n",
    "    ifiles.append(f\"{filename}.csv\")"
   ]
  },
  {
   "cell_type": "code",
   "execution_count": null,
   "metadata": {
    "hidden": true
   },
   "outputs": [],
   "source": [
    "display(iasm[0]) # Nothing"
   ]
  },
  {
   "cell_type": "code",
   "execution_count": null,
   "metadata": {
    "hidden": true
   },
   "outputs": [],
   "source": [
    "display(icfgs[1]) # Normal opt"
   ]
  },
  {
   "cell_type": "code",
   "execution_count": null,
   "metadata": {
    "collapsed": true,
    "hidden": true
   },
   "outputs": [],
   "source": [
    "display(icfgs[2]) # Normal opt"
   ]
  },
  {
   "cell_type": "code",
   "execution_count": null,
   "metadata": {
    "collapsed": true,
    "hidden": true
   },
   "outputs": [],
   "source": [
    "display(icfgs[3]) # Normal opt"
   ]
  },
  {
   "cell_type": "code",
   "execution_count": null,
   "metadata": {
    "hidden": true
   },
   "outputs": [],
   "source": [
    "\n",
    "df=render_csv(ifiles)\n",
    "df[\"file\"] = ifiles\n",
    "df[\"GHz\"] = 1/df[\"CT\"]/1e9\n",
    "df[\"CT_ns\"] = df[\"CT\"]*1e9\n",
    "df[[\"file\",\"IC\", \"CPI\", \"CT_ns\", \"ET\",  \"GHz\"]]"
   ]
  }
 ],
 "metadata": {
  "kernelspec": {
   "display_name": "Python 3",
   "language": "python",
   "name": "python3"
  },
  "language_info": {
   "codemirror_mode": {
    "name": "ipython",
    "version": 3
   },
   "file_extension": ".py",
   "mimetype": "text/x-python",
   "name": "python",
   "nbconvert_exporter": "python",
   "pygments_lexer": "ipython3",
   "version": "3.7.6"
  },
  "toc": {
   "base_numbering": 1,
   "nav_menu": {},
   "number_sections": true,
   "sideBar": true,
   "skip_h1_title": false,
   "title_cell": "Table of Contents",
   "title_sidebar": "Contents",
   "toc_cell": false,
   "toc_position": {
    "height": "calc(100% - 180px)",
    "left": "10px",
    "top": "150px",
    "width": "384px"
   },
   "toc_section_display": true,
   "toc_window_display": false
  }
 },
 "nbformat": 4,
 "nbformat_minor": 4
}
